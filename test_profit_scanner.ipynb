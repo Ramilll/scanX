{
 "cells": [
  {
   "cell_type": "code",
   "execution_count": 9,
   "metadata": {},
   "outputs": [],
   "source": [
    "from transaction_analysis.profit_scanner import ProfitScanner\n",
    "from utils.transaction.swap_transaction_analyzer import *\n",
    "\n",
    "from utils.transaction.erc20_transaction import ERC20Transaction\n",
    "from utils.transaction.normal_transaction import NormalTransaction\n",
    "from utils.transaction.internal_transaction import InternalTransaction"
   ]
  },
  {
   "cell_type": "code",
   "execution_count": 10,
   "metadata": {},
   "outputs": [
    {
     "name": "stdout",
     "output_type": "stream",
     "text": [
      "The autoreload extension is already loaded. To reload it, use:\n",
      "  %reload_ext autoreload\n"
     ]
    }
   ],
   "source": [
    "#enable autoreload\n",
    "%load_ext autoreload\n",
    "%autoreload 2"
   ]
  },
  {
   "cell_type": "code",
   "execution_count": 11,
   "metadata": {},
   "outputs": [],
   "source": [
    "owner_address = \"0x1a869357c99bdf201D0378971FfE0b78DA5697E0\"\n",
    "\n",
    "profit_scanner = ProfitScanner(owner_address)"
   ]
  },
  {
   "cell_type": "code",
   "execution_count": 12,
   "metadata": {},
   "outputs": [],
   "source": [
    "txs_by_hash = profit_scanner.create_txs_by_hash()\n",
    "function_name_by_hash = profit_scanner.create_function_name_by_hash()"
   ]
  },
  {
   "cell_type": "code",
   "execution_count": 13,
   "metadata": {},
   "outputs": [],
   "source": [
    "tx_hash = \"0x8f8728f9a1b68cfec612bbd4224da1e08a2b8ff10f3473af5860a952c65d54f4\"\n",
    "\n",
    "def get_bundle_by_tx_hash(tx_hash):\n",
    "    txs = txs_by_hash[tx_hash]\n",
    "\n",
    "    normal_transaction, erc20_transactions, internal_transaction = None, [], None\n",
    "\n",
    "    for tx in txs:\n",
    "        if isinstance(tx, NormalTransaction):\n",
    "            normal_transaction = tx\n",
    "        elif isinstance(tx, ERC20Transaction):\n",
    "            erc20_transactions.append(tx)\n",
    "        elif isinstance(tx, InternalTransaction):\n",
    "            internal_transaction = tx\n",
    "        else:\n",
    "            raise Exception(\"Unknown transaction type\", type(tx))\n",
    "\n",
    "    return normal_transaction, erc20_transactions, internal_transaction\n",
    "\n",
    "normal_transaction, erc20_transactions, internal_transaction = get_bundle_by_tx_hash(tx_hash)"
   ]
  },
  {
   "cell_type": "code",
   "execution_count": 14,
   "metadata": {},
   "outputs": [],
   "source": [
    "data = []\n",
    "\n",
    "for tx_hash in txs_by_hash:\n",
    "    if tx_hash not in function_name_by_hash:\n",
    "        continue\n",
    "    if is_swap(function_name_by_hash[tx_hash]):\n",
    "        normal_transaction, erc20_transactions, internal_transaction = get_bundle_by_tx_hash(tx_hash)\n",
    "        try:\n",
    "            swap_transaction_analyzer = SwapTransactionAnalyzer(owner_address, normal_transaction, erc20_transactions, internal_transaction)\n",
    "            data.append(swap_transaction_analyzer.get_swap_transaction_result().to_json())\n",
    "        except IndexError as e:\n",
    "            pass\n",
    "            print(e)\n",
    "            print(tx_hash)\n",
    "            print(normal_transaction)\n",
    "            print(erc20_transactions)\n",
    "            print(internal_transaction)"
   ]
  },
  {
   "cell_type": "code",
   "execution_count": 15,
   "metadata": {},
   "outputs": [],
   "source": [
    "import pandas as pd\n",
    "\n",
    "df = pd.DataFrame(data)"
   ]
  },
  {
   "cell_type": "code",
   "execution_count": 16,
   "metadata": {},
   "outputs": [
    {
     "data": {
      "text/plain": [
       "function_name\n",
       "swapExactTokensForETHSupportingFeeOnTransferTokens(uint256 amountIn, uint256 amountOutMin, address[] path, address to, uint256 deadline)    82\n",
       "Name: count, dtype: int64"
      ]
     },
     "execution_count": 16,
     "metadata": {},
     "output_type": "execute_result"
    }
   ],
   "source": [
    "df.function_name.value_counts()"
   ]
  },
  {
   "cell_type": "code",
   "execution_count": null,
   "metadata": {},
   "outputs": [],
   "source": []
  }
 ],
 "metadata": {
  "kernelspec": {
   "display_name": "venv",
   "language": "python",
   "name": "python3"
  },
  "language_info": {
   "codemirror_mode": {
    "name": "ipython",
    "version": 3
   },
   "file_extension": ".py",
   "mimetype": "text/x-python",
   "name": "python",
   "nbconvert_exporter": "python",
   "pygments_lexer": "ipython3",
   "version": "3.11.9"
  },
  "orig_nbformat": 4
 },
 "nbformat": 4,
 "nbformat_minor": 2
}
