{
 "cells": [
  {
   "cell_type": "code",
   "execution_count": null,
   "metadata": {},
   "outputs": [],
   "source": [
    "from transaction_analysis.profit_scanner import ProfitScanner\n",
    "from utils.transaction.swap_transaction_analyzer import *\n",
    "\n",
    "from utils.transaction.erc20_transaction import ERC20Transaction\n",
    "from utils.transaction.normal_transaction import NormalTransaction\n",
    "from utils.transaction.internal_transaction import InternalTransaction"
   ]
  },
  {
   "cell_type": "code",
   "execution_count": null,
   "metadata": {},
   "outputs": [],
   "source": [
    "#enable autoreload\n",
    "%load_ext autoreload\n",
    "%autoreload 2"
   ]
  },
  {
   "cell_type": "code",
   "execution_count": null,
   "metadata": {},
   "outputs": [],
   "source": [
    "address = \"0x1a869357c99bdf201D0378971FfE0b78DA5697E0\"\n",
    "\n",
    "profit_scanner = ProfitScanner(address)"
   ]
  },
  {
   "cell_type": "code",
   "execution_count": null,
   "metadata": {},
   "outputs": [],
   "source": [
    "txs_by_hash = profit_scanner.create_txs_by_hash()\n",
    "function_name_by_hash = profit_scanner.create_function_name_by_hash()"
   ]
  },
  {
   "cell_type": "code",
   "execution_count": null,
   "metadata": {},
   "outputs": [],
   "source": [
    "tt = sorted(list(set(function_name_by_hash.values())))"
   ]
  },
  {
   "cell_type": "code",
   "execution_count": null,
   "metadata": {},
   "outputs": [],
   "source": [
    "tt"
   ]
  },
  {
   "cell_type": "code",
   "execution_count": null,
   "metadata": {},
   "outputs": [],
   "source": [
    "from collections import defaultdict\n",
    "\n",
    "d = set()\n",
    "\n",
    "for tx_hash in txs_by_hash:\n",
    "    if tx_hash not in function_name_by_hash:\n",
    "        continue\n",
    "    if function_name_by_hash[tx_hash] == SwapFunctionName.swap_exact_tokens_for_eth_supporting_fee_on_transfer_tokens.value:\n",
    "        cnt_by_tx_name = defaultdict(int)\n",
    "        for tx in txs_by_hash[tx_hash]:\n",
    "            cnt_by_tx_name[tx.transaction_name] += 1\n",
    "        if cnt_by_tx_name[\"erc20_transaction\"] == 2:\n",
    "            print(tx_hash)\n",
    "        cnt_by_tx_tuple = tuple(sorted(cnt_by_tx_name.items()))\n",
    "        d.add(cnt_by_tx_tuple)\n",
    "\n",
    "d"
   ]
  },
  {
   "cell_type": "code",
   "execution_count": null,
   "metadata": {},
   "outputs": [],
   "source": [
    "tx_hash = \"0x6315c2f7ec57c3a63ee7020ef8785c596963eaf7ff37c3b95d98b465aede3d25\"\n",
    "\n",
    "def get_bundle_by_tx_hash(tx_hash):\n",
    "    txs = txs_by_hash[tx_hash]\n",
    "\n",
    "    normal_transaction, erc20_transactions, internal_transaction = None, [], None\n",
    "\n",
    "    for tx in txs:\n",
    "        if type(tx) == NormalTransaction:\n",
    "            normal_transaction = tx\n",
    "        elif type(tx) == ERC20Transaction:\n",
    "            erc20_transactions.append(tx)\n",
    "        elif type(tx) == InternalTransaction:\n",
    "            internal_transaction = tx\n",
    "        else:\n",
    "            raise Exception(\"Unknown transaction type\")\n",
    "\n",
    "    return normal_transaction, erc20_transactions, internal_transaction\n",
    "\n",
    "normal_transaction, erc20_transactions, internal_transaction = get_bundle_by_tx_hash(tx_hash)"
   ]
  },
  {
   "cell_type": "code",
   "execution_count": null,
   "metadata": {},
   "outputs": [],
   "source": [
    "txs_by_hash[\"0x7c1bcddc647379752a2e93b3d89e730d410f541f1626d362212dd641b643703f\"]"
   ]
  },
  {
   "cell_type": "code",
   "execution_count": null,
   "metadata": {},
   "outputs": [],
   "source": []
  }
 ],
 "metadata": {
  "kernelspec": {
   "display_name": "venv",
   "language": "python",
   "name": "python3"
  },
  "language_info": {
   "codemirror_mode": {
    "name": "ipython",
    "version": 3
   },
   "file_extension": ".py",
   "mimetype": "text/x-python",
   "name": "python",
   "nbconvert_exporter": "python",
   "pygments_lexer": "ipython3",
   "version": "3.11.6"
  },
  "orig_nbformat": 4
 },
 "nbformat": 4,
 "nbformat_minor": 2
}
