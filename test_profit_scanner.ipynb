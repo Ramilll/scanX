{
    "cells": [
        {
            "cell_type": "code",
            "execution_count": null,
            "metadata": {},
            "outputs": [],
            "source": [
                "from profit_scanner.profit_scanner import ProfitScanner\n",
                "from transaction.transaction_loader import TransactionLoader\n",
                "from profit_scanner.statistics_calculator import StatisticsCalculator\n",
                "from api_endpoints.uniswap_api import get_token_price"
            ]
        },
        {
            "cell_type": "code",
            "execution_count": null,
            "metadata": {},
            "outputs": [],
            "source": [
                "#enable autoreload\n",
                "%load_ext autoreload\n",
                "%autoreload 2"
            ]
        },
        {
            "cell_type": "code",
            "execution_count": null,
            "metadata": {},
            "outputs": [],
            "source": [
                "owner_address = \"0xc67630cf4701D4427Fe67E4C8C9BAd7d0c16CFF1\"\n",
                "\n",
                "transaction_loader = TransactionLoader()\n",
                "normal_transactions, erc20_transactions, internal_transactions = transaction_loader.load_transactions(owner_address)\n",
                "profit_scanner = ProfitScanner(owner_address, normal_transactions, erc20_transactions, internal_transactions)\n",
                "stat_calculator = StatisticsCalculator()"
            ]
        },
        {
            "cell_type": "code",
            "execution_count": null,
            "metadata": {},
            "outputs": [],
            "source": [
                "(res, skip_transaction_reasons) = profit_scanner.process()"
            ]
        },
        {
            "cell_type": "code",
            "execution_count": null,
            "metadata": {},
            "outputs": [],
            "source": [
                "stats = stat_calculator.process(profit_scanner.owner_address, res)"
            ]
        },
        {
            "cell_type": "code",
            "execution_count": null,
            "metadata": {},
            "outputs": [],
            "source": [
                "stats.to_dict()"
            ]
        },
        {
            "cell_type": "code",
            "execution_count": null,
            "metadata": {},
            "outputs": [],
            "source": []
        }
    ],
    "metadata": {
        "kernelspec": {
            "display_name": "venv",
            "language": "python",
            "name": "python3"
        },
        "language_info": {
            "codemirror_mode": {
                "name": "ipython",
                "version": 3
            },
            "file_extension": ".py",
            "mimetype": "text/x-python",
            "name": "python",
            "nbconvert_exporter": "python",
            "pygments_lexer": "ipython3",
            "version": "3.11.9"
        },
        "orig_nbformat": 4
    },
    "nbformat": 4,
    "nbformat_minor": 2
}
