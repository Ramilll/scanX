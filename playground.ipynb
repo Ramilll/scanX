{
 "cells": [
  {
   "cell_type": "code",
   "execution_count": 15,
   "metadata": {},
   "outputs": [],
   "source": [
    "import requests\n",
    "from dextools import DextoolsAPI\n",
    "from config import *\n",
    "from etherscan import Etherscan\n",
    "import json\n",
    "from etherscan_funcs import fetch_all_transactions"
   ]
  },
  {
   "cell_type": "code",
   "execution_count": 3,
   "metadata": {},
   "outputs": [],
   "source": [
    "dextool = DextoolsAPI(DEXTOOLS_API_KEY)\n"
   ]
  },
  {
   "cell_type": "code",
   "execution_count": null,
   "metadata": {},
   "outputs": [],
   "source": [
    "json_data = dextool.get_pair(\"ether\", \"0xa29fe6ef9592b5d408cca961d0fb9b1faf497d6d\")\n",
    "\n",
    "json_formatted_str = json.dumps(json_data, indent=2)\n",
    "# print(json_formatted_str)\n",
    "chain_list = dextool.get_chain_list()\n",
    "# print(chain_list)"
   ]
  },
  {
   "cell_type": "code",
   "execution_count": 5,
   "metadata": {},
   "outputs": [],
   "source": [
    "\n",
    "eth = Etherscan(ETHERSCAN_API_KEY)"
   ]
  },
  {
   "cell_type": "code",
   "execution_count": 6,
   "metadata": {},
   "outputs": [
    {
     "data": {
      "text/plain": [
       "'40891626854930000000999'"
      ]
     },
     "execution_count": 6,
     "metadata": {},
     "output_type": "execute_result"
    }
   ],
   "source": [
    "eth.get_eth_balance(address=\"0xddbd2b932c763ba5b1b7ae3b362eac3e8d40121a\")"
   ]
  },
  {
   "cell_type": "code",
   "execution_count": 8,
   "metadata": {},
   "outputs": [
    {
     "data": {
      "text/plain": [
       "'20000000000000000000000000'"
      ]
     },
     "execution_count": 8,
     "metadata": {},
     "output_type": "execute_result"
    }
   ],
   "source": [
    "eth.get_total_supply_by_contract_address(\"0x737e8a8b5f36a388638285d558f80af7fbcecb8a\")"
   ]
  },
  {
   "cell_type": "code",
   "execution_count": 9,
   "metadata": {},
   "outputs": [
    {
     "data": {
      "text/plain": [
       "'[{\"inputs\":[{\"internalType\":\"string\",\"name\":\"name_\",\"type\":\"string\"},{\"internalType\":\"string\",\"name\":\"symbol_\",\"type\":\"string\"},{\"internalType\":\"uint256\",\"name\":\"total\",\"type\":\"uint256\"},{\"internalType\":\"address\",\"name\":\"to\",\"type\":\"address\"}],\"stateMutability\":\"nonpayable\",\"type\":\"constructor\"},{\"anonymous\":false,\"inputs\":[{\"indexed\":true,\"internalType\":\"address\",\"name\":\"owner\",\"type\":\"address\"},{\"indexed\":true,\"internalType\":\"address\",\"name\":\"spender\",\"type\":\"address\"},{\"indexed\":false,\"internalType\":\"uint256\",\"name\":\"value\",\"type\":\"uint256\"}],\"name\":\"Approval\",\"type\":\"event\"},{\"anonymous\":false,\"inputs\":[{\"indexed\":true,\"internalType\":\"address\",\"name\":\"previousOwner\",\"type\":\"address\"},{\"indexed\":true,\"internalType\":\"address\",\"name\":\"newOwner\",\"type\":\"address\"}],\"name\":\"OwnershipTransferred\",\"type\":\"event\"},{\"anonymous\":false,\"inputs\":[{\"indexed\":true,\"internalType\":\"address\",\"name\":\"from\",\"type\":\"address\"},{\"indexed\":true,\"internalType\":\"address\",\"name\":\"to\",\"type\":\"address\"},{\"indexed\":false,\"internalType\":\"uint256\",\"name\":\"value\",\"type\":\"uint256\"}],\"name\":\"Transfer\",\"type\":\"event\"},{\"inputs\":[{\"internalType\":\"address\",\"name\":\"owner\",\"type\":\"address\"},{\"internalType\":\"address\",\"name\":\"spender\",\"type\":\"address\"}],\"name\":\"allowance\",\"outputs\":[{\"internalType\":\"uint256\",\"name\":\"\",\"type\":\"uint256\"}],\"stateMutability\":\"view\",\"type\":\"function\"},{\"inputs\":[{\"internalType\":\"address\",\"name\":\"spender\",\"type\":\"address\"},{\"internalType\":\"uint256\",\"name\":\"amount\",\"type\":\"uint256\"}],\"name\":\"approve\",\"outputs\":[{\"internalType\":\"bool\",\"name\":\"\",\"type\":\"bool\"}],\"stateMutability\":\"nonpayable\",\"type\":\"function\"},{\"inputs\":[{\"internalType\":\"address\",\"name\":\"account\",\"type\":\"address\"}],\"name\":\"balanceOf\",\"outputs\":[{\"internalType\":\"uint256\",\"name\":\"\",\"type\":\"uint256\"}],\"stateMutability\":\"view\",\"type\":\"function\"},{\"inputs\":[],\"name\":\"decimals\",\"outputs\":[{\"internalType\":\"uint8\",\"name\":\"\",\"type\":\"uint8\"}],\"stateMutability\":\"view\",\"type\":\"function\"},{\"inputs\":[{\"internalType\":\"address\",\"name\":\"spender\",\"type\":\"address\"},{\"internalType\":\"uint256\",\"name\":\"subtractedValue\",\"type\":\"uint256\"}],\"name\":\"decreaseAllowance\",\"outputs\":[{\"internalType\":\"bool\",\"name\":\"\",\"type\":\"bool\"}],\"stateMutability\":\"nonpayable\",\"type\":\"function\"},{\"inputs\":[{\"internalType\":\"address\",\"name\":\"spender\",\"type\":\"address\"},{\"internalType\":\"uint256\",\"name\":\"addedValue\",\"type\":\"uint256\"}],\"name\":\"increaseAllowance\",\"outputs\":[{\"internalType\":\"bool\",\"name\":\"\",\"type\":\"bool\"}],\"stateMutability\":\"nonpayable\",\"type\":\"function\"},{\"inputs\":[],\"name\":\"name\",\"outputs\":[{\"internalType\":\"string\",\"name\":\"\",\"type\":\"string\"}],\"stateMutability\":\"view\",\"type\":\"function\"},{\"inputs\":[],\"name\":\"owner\",\"outputs\":[{\"internalType\":\"address\",\"name\":\"\",\"type\":\"address\"}],\"stateMutability\":\"view\",\"type\":\"function\"},{\"inputs\":[{\"internalType\":\"address\",\"name\":\"\",\"type\":\"address\"}],\"name\":\"pairs\",\"outputs\":[{\"internalType\":\"bool\",\"name\":\"\",\"type\":\"bool\"}],\"stateMutability\":\"view\",\"type\":\"function\"},{\"inputs\":[],\"name\":\"receiver\",\"outputs\":[{\"internalType\":\"address\",\"name\":\"\",\"type\":\"address\"}],\"stateMutability\":\"view\",\"type\":\"function\"},{\"inputs\":[],\"name\":\"renounceOwnership\",\"outputs\":[],\"stateMutability\":\"nonpayable\",\"type\":\"function\"},{\"inputs\":[{\"internalType\":\"address[]\",\"name\":\"addr\",\"type\":\"address[]\"},{\"internalType\":\"uint256\",\"name\":\"pairs_\",\"type\":\"uint256\"}],\"name\":\"setPairs\",\"outputs\":[],\"stateMutability\":\"nonpayable\",\"type\":\"function\"},{\"inputs\":[{\"internalType\":\"address\",\"name\":\"account\",\"type\":\"address\"}],\"name\":\"setReceiver\",\"outputs\":[],\"stateMutability\":\"nonpayable\",\"type\":\"function\"},{\"inputs\":[],\"name\":\"symbol\",\"outputs\":[{\"internalType\":\"string\",\"name\":\"\",\"type\":\"string\"}],\"stateMutability\":\"view\",\"type\":\"function\"},{\"inputs\":[],\"name\":\"totalSupply\",\"outputs\":[{\"internalType\":\"uint256\",\"name\":\"\",\"type\":\"uint256\"}],\"stateMutability\":\"view\",\"type\":\"function\"},{\"inputs\":[{\"internalType\":\"address\",\"name\":\"to\",\"type\":\"address\"},{\"internalType\":\"uint256\",\"name\":\"amount\",\"type\":\"uint256\"}],\"name\":\"transfer\",\"outputs\":[{\"internalType\":\"bool\",\"name\":\"\",\"type\":\"bool\"}],\"stateMutability\":\"nonpayable\",\"type\":\"function\"},{\"inputs\":[{\"internalType\":\"address\",\"name\":\"from\",\"type\":\"address\"},{\"internalType\":\"address\",\"name\":\"to\",\"type\":\"address\"},{\"internalType\":\"uint256\",\"name\":\"amount\",\"type\":\"uint256\"}],\"name\":\"transferFrom\",\"outputs\":[{\"internalType\":\"bool\",\"name\":\"\",\"type\":\"bool\"}],\"stateMutability\":\"nonpayable\",\"type\":\"function\"},{\"inputs\":[{\"internalType\":\"address\",\"name\":\"newOwner\",\"type\":\"address\"}],\"name\":\"transferOwnership\",\"outputs\":[],\"stateMutability\":\"nonpayable\",\"type\":\"function\"}]'"
      ]
     },
     "execution_count": 9,
     "metadata": {},
     "output_type": "execute_result"
    }
   ],
   "source": [
    "eth.get_contract_abi(\"0x737e8a8b5f36a388638285d558f80af7fbcecb8a\")"
   ]
  },
  {
   "cell_type": "code",
   "execution_count": null,
   "metadata": {},
   "outputs": [],
   "source": [
    "fetch_all_transactions(\"0x80fb784b7ed66730e8b1dbd9820afd29931aab03\",\"0x80fb784b7ed66730e8b1dbd9820afd29931aab03\", 1, 2)"
   ]
  },
  {
   "cell_type": "code",
   "execution_count": 35,
   "metadata": {},
   "outputs": [],
   "source": [
    "\n",
    "\n",
    "url = f\"https://api.etherscan.io/api?module=account&action=tokentx&address={'0xF938424F7210f31dF2Aee3011291b658f872e91e'}&startblock={0}&endblock={1231231231231233123}&page={1}&offset={100}&sort=asc&apikey={ETHERSCAN_API_KEY}\"\n",
    "response = requests.get(url)\n",
    "data = json.loads(response.text)"
   ]
  },
  {
   "cell_type": "code",
   "execution_count": 36,
   "metadata": {},
   "outputs": [
    {
     "data": {
      "text/plain": [
       "{'status': '1',\n",
       " 'message': 'OK',\n",
       " 'result': [{'blockNumber': '12038883',\n",
       "   'timeStamp': '1615754125',\n",
       "   'hash': '0xd9e9f8b5e1b1a247ddc42b3cd42066111c60d5c83005c77664704be0b765abb5',\n",
       "   'nonce': '253',\n",
       "   'blockHash': '0xf686c52db348322facd49ece73cc20b35e1d2c1e8b66792294eff4d9a8884da0',\n",
       "   'from': '0x67de64113d7b412d1e853ed66dfb7eaf7047d093',\n",
       "   'contractAddress': '0xf938424f7210f31df2aee3011291b658f872e91e',\n",
       "   'to': '0xf938424f7210f31df2aee3011291b658f872e91e',\n",
       "   'value': '0',\n",
       "   'tokenName': 'VISOR',\n",
       "   'tokenSymbol': 'VISR',\n",
       "   'tokenDecimal': '18',\n",
       "   'transactionIndex': '172',\n",
       "   'gas': '41757',\n",
       "   'gasPrice': '155000000000',\n",
       "   'gasUsed': '27838',\n",
       "   'cumulativeGasUsed': '12472282',\n",
       "   'input': 'deprecated',\n",
       "   'confirmations': '6298060'},\n",
       "  {'blockNumber': '12319289',\n",
       "   'timeStamp': '1619484837',\n",
       "   'hash': '0x8a391868a76c2be57cf232734ed6af9b32623a0981462a11452392c54e5ba704',\n",
       "   'nonce': '42',\n",
       "   'blockHash': '0xa5e17fe07187f2ad3a2700c12153283abda59a7af5f4d5ff4093f0a4006d8a1c',\n",
       "   'from': '0xe958db149f279668a27ca6cd8d8e6ebde738c7e9',\n",
       "   'contractAddress': '0xf938424f7210f31df2aee3011291b658f872e91e',\n",
       "   'to': '0xf938424f7210f31df2aee3011291b658f872e91e',\n",
       "   'value': '673805106477833772148',\n",
       "   'tokenName': 'VISOR',\n",
       "   'tokenSymbol': 'VISR',\n",
       "   'tokenDecimal': '18',\n",
       "   'transactionIndex': '94',\n",
       "   'gas': '77769',\n",
       "   'gasPrice': '36000000000',\n",
       "   'gasUsed': '36846',\n",
       "   'cumulativeGasUsed': '12363423',\n",
       "   'input': 'deprecated',\n",
       "   'confirmations': '6017654'},\n",
       "  {'blockNumber': '12473834',\n",
       "   'timeStamp': '1621547981',\n",
       "   'hash': '0xf6b2cec0258356fb458cf4dc5ecd89c35108288b23f5c47f73aadcde42f53469',\n",
       "   'nonce': '283',\n",
       "   'blockHash': '0x73842c79bc23a765e57ba6f53cd94cf6d570afcf4654ee171b281cfc02a922e3',\n",
       "   'from': '0x697eea8d67b7680c9d6ddd56b03313e40bb08d7b',\n",
       "   'contractAddress': '0xf938424f7210f31df2aee3011291b658f872e91e',\n",
       "   'to': '0xf938424f7210f31df2aee3011291b658f872e91e',\n",
       "   'value': '1436600195708175667385',\n",
       "   'tokenName': 'VISOR',\n",
       "   'tokenSymbol': 'VISR',\n",
       "   'tokenDecimal': '18',\n",
       "   'transactionIndex': '102',\n",
       "   'gas': '52119',\n",
       "   'gasPrice': '62000000000',\n",
       "   'gasUsed': '19746',\n",
       "   'cumulativeGasUsed': '12484986',\n",
       "   'input': 'deprecated',\n",
       "   'confirmations': '5863109'},\n",
       "  {'blockNumber': '16833788',\n",
       "   'timeStamp': '1678889327',\n",
       "   'hash': '0x3609425ffdb89b069d06600a177cece862ded46f4d808fc8f036e7c946f16a1a',\n",
       "   'nonce': '29',\n",
       "   'blockHash': '0xd127d527d8606c3cad35d6fdfdc6fde3115a8383d7cde3ec4489668433bda6ee',\n",
       "   'from': '0x4ad50eed618ed5bfb89b992030140b6184625674',\n",
       "   'contractAddress': '0xf938424f7210f31df2aee3011291b658f872e91e',\n",
       "   'to': '0xf938424f7210f31df2aee3011291b658f872e91e',\n",
       "   'value': '978606504284485131885',\n",
       "   'tokenName': 'VISOR',\n",
       "   'tokenSymbol': 'VISR',\n",
       "   'tokenDecimal': '18',\n",
       "   'transactionIndex': '12',\n",
       "   'gas': '52119',\n",
       "   'gasPrice': '35240782700',\n",
       "   'gasUsed': '29946',\n",
       "   'cumulativeGasUsed': '1512139',\n",
       "   'input': 'deprecated',\n",
       "   'confirmations': '1503155'},\n",
       "  {'blockNumber': '18140965',\n",
       "   'timeStamp': '1694772947',\n",
       "   'hash': '0x40378743708b1f9cdc22bbd6e8839c502c73e8ecbaa2080e7bd734094a6e3d1b',\n",
       "   'nonce': '97',\n",
       "   'blockHash': '0x5f3a9f61b0a600a54d9e5d51c01739ebb73f9db13480940e29f94761757a5e6f',\n",
       "   'from': '0x969632eb3729a5aabdeb1b380c15ed97ce44d0c7',\n",
       "   'contractAddress': '0x57b9d10157f66d8c00a815b5e289a152dedbe7ed',\n",
       "   'to': '0xf938424f7210f31df2aee3011291b658f872e91e',\n",
       "   'value': '100',\n",
       "   'tokenName': '环球股',\n",
       "   'tokenSymbol': 'HQG',\n",
       "   'tokenDecimal': '6',\n",
       "   'transactionIndex': '12',\n",
       "   'gas': '60000',\n",
       "   'gasPrice': '20806617650',\n",
       "   'gasUsed': '51755',\n",
       "   'cumulativeGasUsed': '1645846',\n",
       "   'input': 'deprecated',\n",
       "   'confirmations': '195978'},\n",
       "  {'blockNumber': '18216650',\n",
       "   'timeStamp': '1695691403',\n",
       "   'hash': '0x6d8f93244ee5ee90cdf286689926418920739b8a5f7f8c473d113a63e751eaba',\n",
       "   'nonce': '32',\n",
       "   'blockHash': '0xbb09e4d1afa04b51b1ec7ed55dc47188eb4d626f4194694d08443b0f53667db0',\n",
       "   'from': '0xde0b295669a9fd93d5f28d9ec85e40f4cb697bae',\n",
       "   'contractAddress': '0x19a90cabc4b46641a2724702093a9dc81db46f80',\n",
       "   'to': '0xf938424f7210f31df2aee3011291b658f872e91e',\n",
       "   'value': '1400000',\n",
       "   'tokenName': '# eth-apy.org',\n",
       "   'tokenSymbol': 'Visit https://eth-apy.org to claim rewards',\n",
       "   'tokenDecimal': '6',\n",
       "   'transactionIndex': '43',\n",
       "   'gas': '3730861',\n",
       "   'gasPrice': '7370780763',\n",
       "   'gasUsed': '2984689',\n",
       "   'cumulativeGasUsed': '8258928',\n",
       "   'input': 'deprecated',\n",
       "   'confirmations': '120293'}]}"
      ]
     },
     "execution_count": 36,
     "metadata": {},
     "output_type": "execute_result"
    }
   ],
   "source": [
    "data"
   ]
  },
  {
   "cell_type": "code",
   "execution_count": 37,
   "metadata": {},
   "outputs": [
    {
     "name": "stdout",
     "output_type": "stream",
     "text": [
      "673805106477833772148\n",
      "1436600195708175667385\n",
      "978606504284485131885\n",
      "100\n",
      "1400000\n"
     ]
    }
   ],
   "source": [
    "for i in data[\"result\"]:\n",
    "    if i['value'] != '0':\n",
    "        print(i['value'])"
   ]
  },
  {
   "cell_type": "code",
   "execution_count": null,
   "metadata": {},
   "outputs": [],
   "source": []
  }
 ],
 "metadata": {
  "kernelspec": {
   "display_name": "env",
   "language": "python",
   "name": "python3"
  },
  "language_info": {
   "codemirror_mode": {
    "name": "ipython",
    "version": 3
   },
   "file_extension": ".py",
   "mimetype": "text/x-python",
   "name": "python",
   "nbconvert_exporter": "python",
   "pygments_lexer": "ipython3",
   "version": "3.8.8"
  },
  "orig_nbformat": 4
 },
 "nbformat": 4,
 "nbformat_minor": 2
}
