{
 "cells": [
  {
   "cell_type": "code",
   "execution_count": null,
   "metadata": {},
   "outputs": [],
   "source": [
    "from utils.blockchain_utilities import *\n",
    "from utils.etherscan_client import *\n",
    "from utils.transaction import *\n",
    "\n",
    "from utils.transaction.normal_transaction import NormalTransaction\n",
    "from utils.transaction.erc20_transaction import ERC20Transaction\n",
    "from utils.transaction.internal_transaction import InternalTransaction"
   ]
  },
  {
   "cell_type": "code",
   "execution_count": null,
   "metadata": {},
   "outputs": [],
   "source": [
    "#enable autoreload \n",
    "%load_ext autoreload\n",
    "%autoreload 2\n"
   ]
  },
  {
   "cell_type": "code",
   "execution_count": null,
   "metadata": {},
   "outputs": [],
   "source": [
    "etherscan_client = EtherscanClient()"
   ]
  },
  {
   "cell_type": "code",
   "execution_count": null,
   "metadata": {},
   "outputs": [],
   "source": [
    "address = '0x1a869357c99bdf201D0378971FfE0b78DA5697E0'"
   ]
  },
  {
   "cell_type": "code",
   "execution_count": null,
   "metadata": {},
   "outputs": [],
   "source": [
    "normal_transactions = etherscan_client.get_normal_transaction_history(address, offset=-1)\n",
    "erc20_transactions = etherscan_client.get_erc20_transaction_history(address, offset=-1)\n",
    "internal_transactions = etherscan_client.get_internal_transaction_history(address, offset=-1)\n",
    "\n",
    "normal_transactions = [NormalTransaction(tx) for tx in normal_transactions]\n",
    "erc20_transactions = [ERC20Transaction(tx) for tx in erc20_transactions]\n",
    "internal_transactions = [InternalTransaction(tx) for tx in internal_transactions]"
   ]
  },
  {
   "cell_type": "code",
   "execution_count": null,
   "metadata": {},
   "outputs": [],
   "source": [
    "hell_transactions = [t for t in erc20_transactions if t.token_symbol == 'HELLBENDER']"
   ]
  },
  {
   "cell_type": "code",
   "execution_count": null,
   "metadata": {},
   "outputs": [],
   "source": [
    "hell_transactions"
   ]
  },
  {
   "cell_type": "code",
   "execution_count": null,
   "metadata": {},
   "outputs": [],
   "source": []
  }
 ],
 "metadata": {
  "kernelspec": {
   "display_name": "venv",
   "language": "python",
   "name": "python3"
  },
  "language_info": {
   "codemirror_mode": {
    "name": "ipython",
    "version": 3
   },
   "file_extension": ".py",
   "mimetype": "text/x-python",
   "name": "python",
   "nbconvert_exporter": "python",
   "pygments_lexer": "ipython3",
   "version": "3.11.0"
  },
  "orig_nbformat": 4
 },
 "nbformat": 4,
 "nbformat_minor": 2
}
